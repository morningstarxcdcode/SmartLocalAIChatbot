{
 "cells": [
  {
   "cell_type": "markdown",
   "metadata": {},
   "source": [
    "# Demo Optimization Pipeline\n",
    "\n",
    "This notebook demonstrates the model optimization pipeline."
   ]
  },
  {
   "cell_type": "code",
   "execution_count": null,
   "metadata": {},
   "outputs": [],
   "source": [
    "# Import necessary modules\n",
    "from ml_opt import train_model, optimize_model, convert_to_onnx\n",
    "\n",
    "# Train the model\n",
    "train_model.train()\n",
    "\n",
    "# Optimize the model\n",
    "optimize_model.optimize()\n",
    "\n",
    "# Convert to ONNX\n",
    "convert_to_onnx.convert()"
   ]
  }
 ],
 "metadata": {
  "kernelspec": {
   "display_name": "Python 3",
   "language": "python",
   "name": "python3"
  },
  "language_info": {
   "name": "python",
   "version": "3.8"
  }
 },
 "nbformat": 4,
 "nbformat_minor": 2
}
